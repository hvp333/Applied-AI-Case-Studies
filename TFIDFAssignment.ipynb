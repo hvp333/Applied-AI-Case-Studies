{
  "nbformat": 4,
  "nbformat_minor": 0,
  "metadata": {
    "colab": {
      "name": "TFIDFAssignment.ipynb",
      "provenance": [],
      "collapsed_sections": [],
      "authorship_tag": "ABX9TyP7sRhV3/IOdoB5C5FhEuaS",
      "include_colab_link": true
    },
    "kernelspec": {
      "name": "python3",
      "display_name": "Python 3"
    }
  },
  "cells": [
    {
      "cell_type": "markdown",
      "metadata": {
        "id": "view-in-github",
        "colab_type": "text"
      },
      "source": [
        "<a href=\"https://colab.research.google.com/github/hvp333/Applied-AI-Case-Studies/blob/master/TFIDFAssignment.ipynb\" target=\"_parent\"><img src=\"https://colab.research.google.com/assets/colab-badge.svg\" alt=\"Open In Colab\"/></a>"
      ]
    },
    {
      "cell_type": "code",
      "metadata": {
        "id": "ySrsQG6ofA6q",
        "colab_type": "code",
        "colab": {}
      },
      "source": [
        "from collections import Counter\n",
        "from tqdm import tqdm\n",
        "from scipy.sparse import csr_matrix\n",
        "import math\n",
        "import operator\n",
        "from sklearn.preprocessing import normalize\n",
        "import numpy\n"
      ],
      "execution_count": 8,
      "outputs": []
    },
    {
      "cell_type": "code",
      "metadata": {
        "id": "UJtNCpXETIqD",
        "colab_type": "code",
        "colab": {}
      },
      "source": [
        "corpus = [\n",
        "     'this is the first document',\n",
        "     'this document is the second document',\n",
        "     'and this is the third one',\n",
        "     'is this the first document',\n",
        "]"
      ],
      "execution_count": 9,
      "outputs": []
    },
    {
      "cell_type": "code",
      "metadata": {
        "id": "kY4VqG76TI0-",
        "colab_type": "code",
        "colab": {
          "base_uri": "https://localhost:8080/",
          "height": 34
        },
        "outputId": "92637765-2ea7-424e-d061-01c23c19acbb"
      },
      "source": [
        "def fit(dataset):\n",
        "  storage_set = set()\n",
        "  if isinstance(dataset,list):\n",
        "    for document in dataset:\n",
        "      for word in document.split(\" \"):\n",
        "        storage_set.add(word)\n",
        "  storage_set = sorted(list(storage_set))\n",
        "  vocab = {j:i for i,j in enumerate(storage_set)}\n",
        "  return vocab\n",
        "\n",
        "vocab =  fit(corpus)\n",
        "print(vocab)"
      ],
      "execution_count": 10,
      "outputs": [
        {
          "output_type": "stream",
          "text": [
            "{'and': 0, 'document': 1, 'first': 2, 'is': 3, 'one': 4, 'second': 5, 'the': 6, 'third': 7, 'this': 8}\n"
          ],
          "name": "stdout"
        }
      ]
    },
    {
      "cell_type": "code",
      "metadata": {
        "id": "5NnRlB8ylckA",
        "colab_type": "code",
        "colab": {
          "base_uri": "https://localhost:8080/",
          "height": 67
        },
        "outputId": "e0dfa78c-e266-4baa-eba3-dbeb56c0c149"
      },
      "source": [
        "corpus = [\n",
        "     'this is the first document',\n",
        "     'this document is the second document',\n",
        "     'and this is the third one',\n",
        "     'is this the first document',\n",
        "]\n",
        "\n",
        "z = []\n",
        "row_l = []\n",
        "for row in corpus:\n",
        "  row_l.append(row)\n",
        "  for word in row.split(\" \"):\n",
        "        z.append(word)\n",
        "\n",
        "print(z)\n",
        "\n",
        "unique = []\n",
        "for i in z:\n",
        "    if i not in unique:\n",
        "        unique.append(i)\n",
        "\n",
        "print(unique)\n",
        "\n",
        "dictIDF = {}\n",
        "\n",
        "for index, val in enumerate(unique):\n",
        "    count = 0\n",
        "    for row in corpus:\n",
        "        if val in row:\n",
        "            count += 1\n",
        "    dictIDF[index] = (val, count)\n",
        "    \n",
        "print(dictIDF)"
      ],
      "execution_count": 11,
      "outputs": [
        {
          "output_type": "stream",
          "text": [
            "['this', 'is', 'the', 'first', 'document', 'this', 'document', 'is', 'the', 'second', 'document', 'and', 'this', 'is', 'the', 'third', 'one', 'is', 'this', 'the', 'first', 'document']\n",
            "['this', 'is', 'the', 'first', 'document', 'second', 'and', 'third', 'one']\n",
            "{0: ('this', 4), 1: ('is', 4), 2: ('the', 4), 3: ('first', 2), 4: ('document', 3), 5: ('second', 1), 6: ('and', 1), 7: ('third', 1), 8: ('one', 1)}\n"
          ],
          "name": "stdout"
        }
      ]
    },
    {
      "cell_type": "code",
      "metadata": {
        "id": "5Z9wmN5FnOag",
        "colab_type": "code",
        "colab": {
          "base_uri": "https://localhost:8080/",
          "height": 101
        },
        "outputId": "4e2a1e59-c257-4917-a46a-4bb7bf473250"
      },
      "source": [
        "#Returs a sparse matrix of the all non-zero values along with their row and col \n",
        "def transform(dataset,vocab):\n",
        "  row = []\n",
        "  col = []\n",
        "  values = []\n",
        "  for ibx,document in enumerate(dataset):\n",
        "    #print(ibx, document)\n",
        "    word_freq = dict(Counter(document.split()))\n",
        "    #for word, freq in word_freq.items() key, value in enumerate(dictIDF):\n",
        "    for (word,freq), (key,value) in zip(word_freq.items(), enumerate(dictIDF)):\n",
        "      #print(word, freq)\n",
        "      col_index = vocab.get(word,-1)\n",
        "      if col_index != -1:\n",
        "        if len(word)<2:\n",
        "          continue\n",
        "        col.append(col_index)\n",
        "        row.append(ibx)\n",
        "        #print(freq, len(document.split(\" \")))\n",
        "        tf = freq/len(document.split(\" \")) # the number of times a word occured in a document\n",
        "        #print(tf)\n",
        "        #print(len(dataset))\n",
        "        \n",
        "        #print(dictIDF[value][0])\n",
        "        if(word == dictIDF[value][0]):\n",
        "          #print(dictIDF[key][1])\n",
        "          idf = 1 + (math.log((1+len(dataset))/(1+dictIDF[value][1])))\n",
        "          #print(idf)\n",
        "        values.append((tf) * (idf))\n",
        "        #print(values)\n",
        "    return csr_matrix( ((values),(row,col)), shape=(len(dataset),len(vocab)))\n",
        "\n",
        "x = transform(corpus,vocab)\n",
        "\n",
        "\n",
        "y = normalize(x, norm='l2')\n",
        "print(y)\n",
        "\n"
      ],
      "execution_count": 12,
      "outputs": [
        {
          "output_type": "stream",
          "text": [
            "  (0, 1)\t0.4697913855799205\n",
            "  (0, 2)\t0.580285823684436\n",
            "  (0, 3)\t0.3840852409148149\n",
            "  (0, 6)\t0.3840852409148149\n",
            "  (0, 8)\t0.3840852409148149\n"
          ],
          "name": "stdout"
        }
      ]
    }
  ]
}